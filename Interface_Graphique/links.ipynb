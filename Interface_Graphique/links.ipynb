{
 "cells": [
  {
   "cell_type": "markdown",
   "metadata": {
    "vscode": {
     "languageId": "plaintext"
    }
   },
   "source": [
    "https://htmlcolorcodes.com/fr/ \n",
    "https://convertio.co/fr/ \n",
    "https://deepai.org/machine-learning-model/text2img \n",
    "https://www.freeconvert.com/fr/download \n",
    "https://www.youtube.com/watch?v=WurCpmHtQc4 \n",
    "https://www.youtube.com/watch?v=xiGQD2J47nA\n",
    "https://www.youtube.com/watch?v=YXPyB4XeYLA\n",
    "\n",
    "\n",
    "\n"
   ]
  }
 ],
 "metadata": {
  "language_info": {
   "name": "python"
  }
 },
 "nbformat": 4,
 "nbformat_minor": 2
}
